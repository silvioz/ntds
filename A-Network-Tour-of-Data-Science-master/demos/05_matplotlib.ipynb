{
 "cells": [
  {
   "cell_type": "markdown",
   "metadata": {},
   "source": [
    "# [NTDS'17] demo 5: Plotting with Matplotlib\n",
    "[ntds'17]: https://github.com/mdeff/ntds_2017\n",
    "\n",
    "[Effrosyni Simou](http://lts4.epfl.ch/simou), [EPFL LTS4](http://lts4.epfl.ch)"
   ]
  },
  {
   "cell_type": "markdown",
   "metadata": {},
   "source": [
    "## Ojective\n",
    "In this lab session we will provide a short tutorial to ``Matplotlib``. We will present:\n",
    "\n",
    "1) The ``matplotlib.pyplot`` module that provides a procedural interface similar to that of Matlab\n",
    "\n",
    "2) The Object Oriented API of Matplotlib, which allows for maximum flexibility "
   ]
  },
  {
   "cell_type": "markdown",
   "metadata": {},
   "source": [
    "## Resources\n",
    "\n",
    "Here are some links that you may find useful if you want to learn more about ``Matplotlib``, than what is included in this demo:\n",
    "\n",
    "* [Matplotlib Documentation](https://matplotlib.org/index.html)\n",
    "* [Scipy Lecture Notes](http://www.scipy-lectures.org/intro/matplotlib/matplotlib.html)"
   ]
  },
  {
   "cell_type": "markdown",
   "metadata": {},
   "source": [
    "## 1. The Pyplot API"
   ]
  },
  {
   "cell_type": "code",
   "execution_count": null,
   "metadata": {},
   "outputs": [],
   "source": [
    "%matplotlib inline\n",
    "# magic command that sets the backend of matplotlib to the 'inline' backend \n",
    "\n",
    "import numpy as np\n",
    "from scipy import sparse\n",
    "import IPython.display as ipd\n",
    "import matplotlib.pyplot as plt"
   ]
  },
  {
   "cell_type": "markdown",
   "metadata": {},
   "source": [
    "### Example 1.1: Plot a linear function"
   ]
  },
  {
   "cell_type": "markdown",
   "metadata": {},
   "source": [
    "Plot $y=x+1$, add labels to the axes and give your plot a title."
   ]
  },
  {
   "cell_type": "code",
   "execution_count": null,
   "metadata": {},
   "outputs": [],
   "source": [
    "plt.plot([1,2,3,4])\n",
    "plt.xlabel('x')\n",
    "plt.ylabel('y=x+1')\n",
    "plt.axis([0, 4, 0, 4]);\n",
    "plt.title('My first plot');"
   ]
  },
  {
   "cell_type": "markdown",
   "metadata": {},
   "source": [
    "### Example 1.2: Plot the sparsity pattern of a 2-D array."
   ]
  },
  {
   "cell_type": "markdown",
   "metadata": {},
   "source": [
    "Create and plot an adjacency matrix for a graph with 10 nodes."
   ]
  },
  {
   "cell_type": "code",
   "execution_count": null,
   "metadata": {},
   "outputs": [],
   "source": [
    "row_ind = np.array([1, 3, 9, 7, 6, 9 ,2, 5, 8, 3, 7, 8])\n",
    "col_ind = np.array([2, 5, 8, 3, 7, 8, 1, 3, 9, 7, 6, 9])\n",
    "data = np.array([1, 1, 1, 1, 1, 1, 1, 1, 1, 1, 1, 1])\n",
    "W = sparse.csr_matrix((data,(row_ind, col_ind)),shape=(10, 10)).toarray()\n",
    "#np.nonzero(W-W.transpose())"
   ]
  },
  {
   "cell_type": "code",
   "execution_count": null,
   "metadata": {},
   "outputs": [],
   "source": [
    "plt.spy(W,markersize=5);\n",
    "plt.title('Adjacency Matrix W');"
   ]
  },
  {
   "cell_type": "markdown",
   "metadata": {},
   "source": [
    "### Example 1.3: Plot a histogram"
   ]
  },
  {
   "cell_type": "markdown",
   "metadata": {},
   "source": [
    "Find the degree of the nodes of the graph that you created in Example 1.2 and plot the degree histogram."
   ]
  },
  {
   "cell_type": "code",
   "execution_count": null,
   "metadata": {},
   "outputs": [],
   "source": [
    "d = W.sum(axis=0)"
   ]
  },
  {
   "cell_type": "code",
   "execution_count": null,
   "metadata": {},
   "outputs": [],
   "source": [
    "n, bins, patches = plt.hist(d, 10, facecolor='g');\n",
    "plt.xlabel('Degree')\n",
    "plt.ylabel('Counts')\n",
    "plt.title('Histogram of degrees')\n",
    "plt.axis([0, 2, 0, 10])\n",
    "plt.grid(True)"
   ]
  },
  {
   "cell_type": "markdown",
   "metadata": {},
   "source": [
    "### What else can you plot with Pyplot?\n",
    "You can find a full list of all the functions provided by ``Pyplot`` [here](https://matplotlib.org/api/_as_gen/matplotlib.pyplot.html)"
   ]
  },
  {
   "cell_type": "markdown",
   "metadata": {},
   "source": [
    "So far we have created simple plots, like the ones you had to create for your first two assignments, using the ``Pyplot`` API. ``Pyplot`` provides a procedural interface similar to the one that you might have been used to from Matlab. However, the Object Oriented API of ``Matplotlib`` offers greater control and customization of the plots and therefore it is recommended to new ``Matplotlib`` users to learn how to use it. "
   ]
  },
  {
   "cell_type": "markdown",
   "metadata": {},
   "source": [
    "## 2. The Object Oriented API"
   ]
  },
  {
   "cell_type": "markdown",
   "metadata": {},
   "source": [
    "Let's have a closer look at what happened when we called the ``pyplot.plot()`` before. Actually, two things happened in the background:\n",
    "\n",
    "1) We created a figure instance describing the plot window and all of its properties.\n",
    "\n",
    "2) We added an axes element within the figure. The axes element allows for the data to be arranged in x and y coordinates and provides a wide range of functions. The axes class will be your \"best friend\" for creating plots with the OO API and you can find out more about it [here](https://matplotlib.org/api/axes_api.html).\n",
    "\n",
    "In order to fully understand ``Matplotlib`` you should have a look at [this tutorial](https://matplotlib.org/users/artists.html) in order to learn about the underlying concepts of ``Artist``, ``FigureCanvas`` and ``Renderer``.\n",
    "\n",
    "However, the basics in order to get you started are:\n",
    "* The ``FigureCanvas`` is where your ``Figure`` will be drawn. When you use ``Pyplot`` to create a ``Figure`` instance, the ``FigureCanvas`` instance is created for you; you do not have to specify anything explicitly. In any other case you have to specify the ``FigureCanvas``. This will also be the case when you want your ``Figure`` to appear in a Graphical User Interface (GUI).\n",
    "* The ``Figure`` will be the final \"picture\". A ``Figure`` may contain one or more plots. The ``Axes`` represents each individual plot."
   ]
  },
  {
   "cell_type": "markdown",
   "metadata": {},
   "source": [
    "### Example 2.1: Using the agg backend."
   ]
  },
  {
   "cell_type": "code",
   "execution_count": null,
   "metadata": {},
   "outputs": [],
   "source": [
    "from matplotlib.backends.backend_agg import FigureCanvasAgg as FigureCanvas\n",
    "from matplotlib.figure import Figure\n",
    "# create a Figure instance\n",
    "fig = Figure()   \n",
    "# Instanciate the FigureCanvas with the figure as argument\n",
    "FigureCanvas(fig)\n",
    "#print(type(fig.canvas))\n",
    "ax = fig.add_subplot(111)\n",
    "ax.plot([1, 2, 3],[1, 2, 3])\n",
    "ax.set_title('My first title')\n",
    "ax.grid(True)\n",
    "ax.set_xlabel('x')\n",
    "ax.set_ylabel('y=x')\n",
    "fig.savefig('test')"
   ]
  },
  {
   "cell_type": "markdown",
   "metadata": {},
   "source": [
    "Open the file `test.png` to see the plot that you created."
   ]
  },
  {
   "cell_type": "code",
   "execution_count": null,
   "metadata": {},
   "outputs": [],
   "source": [
    "ipd.Image(filename='test.png') "
   ]
  },
  {
   "cell_type": "markdown",
   "metadata": {},
   "source": [
    "Now, change the title in your created plot as follows:"
   ]
  },
  {
   "cell_type": "code",
   "execution_count": null,
   "metadata": {},
   "outputs": [],
   "source": [
    "ax.set_title('My new title')\n",
    "fig.savefig('test')"
   ]
  },
  {
   "cell_type": "markdown",
   "metadata": {},
   "source": [
    "Open again the file test.png. You will see that the title has been changed. "
   ]
  },
  {
   "cell_type": "code",
   "execution_count": null,
   "metadata": {},
   "outputs": [],
   "source": [
    "ipd.Image(filename='test.png') "
   ]
  },
  {
   "cell_type": "markdown",
   "metadata": {},
   "source": [
    "### Example 2.2: Use Pyplot only to create the figure and show calls"
   ]
  },
  {
   "cell_type": "code",
   "execution_count": null,
   "metadata": {},
   "outputs": [],
   "source": [
    "%matplotlib notebook\n",
    "#activate the nbagg backend, which enables interactivity within the Jupyter Notebook"
   ]
  },
  {
   "cell_type": "markdown",
   "metadata": {},
   "source": [
    "A commonly used practice for production quality scripts is to use the ``matplotlib.pyplot`` just to create the figure and show calls, and use the OO API for everything else. There are two ways to do that:"
   ]
  },
  {
   "cell_type": "markdown",
   "metadata": {},
   "source": [
    "#### A: Create a figure using pyplot and create an axes instance on the figure with ``gca``"
   ]
  },
  {
   "cell_type": "code",
   "execution_count": null,
   "metadata": {},
   "outputs": [],
   "source": [
    "fig1 = plt.figure()\n",
    "# Get the current axes instance on the current figure\n",
    "ax1 = fig1.gca()\n",
    "print(type(fig1.canvas))"
   ]
  },
  {
   "cell_type": "markdown",
   "metadata": {},
   "source": [
    "#### B: Create a figure using pyplot and add an axes instance on the figure with ``add_subplot``"
   ]
  },
  {
   "cell_type": "code",
   "execution_count": null,
   "metadata": {},
   "outputs": [],
   "source": [
    "fig2 = plt.figure()\n",
    "ax2 = fig2.add_subplot(111)\n",
    "print(type(fig2.canvas))"
   ]
  },
  {
   "cell_type": "markdown",
   "metadata": {},
   "source": [
    "Now that you have created your figures you can plot on them using the ``Axes`` class. Here, as an example, we will plot a scatter plot in ``fig1`` and a cool optical illusion created by [Jake VanderPlas](https://staff.washington.edu/jakevdp/) (the author of the [Python Data Science Handbook](https://github.com/jakevdp/PythonDataScienceHandbook )) in ``fig2``. If you are interested you can find more optical illusions created with ``Matplotlib`` by Jake VanderPlas [here](http://nbviewer.jupyter.org/gist/jakevdp/514bcc09637ac71ca1a8fa703c54e5f7)."
   ]
  },
  {
   "cell_type": "code",
   "execution_count": null,
   "metadata": {},
   "outputs": [],
   "source": [
    "#scatterplot\n",
    "a = np.random.randint(1, 100, size=10)\n",
    "b = np.random.randint(1, 100, size=10)\n",
    "ax1.scatter(a, b, color ='red', edgecolors='black')\n",
    "ax1.set_xscale(\"linear\")\n",
    "ax1.set_yscale(\"linear\") #change to \"log\" and see what happens\n",
    "ax1.set_xlim(0, 100)\n",
    "ax1.set_ylim(0, 100)\n",
    "ax1.set_title('My first scatterplot')\n",
    "plt.show(fig1)"
   ]
  },
  {
   "cell_type": "code",
   "execution_count": null,
   "metadata": {},
   "outputs": [],
   "source": [
    "#optical illusion by Jake VanderPlas\n",
    "from matplotlib.collections import PatchCollection\n",
    "\n",
    "squares = [plt.Rectangle((i + 0.2 * (j % 3), j), 1, 1)\n",
    "           for j in range(10) for i in range(0, 15, 2)]\n",
    "\n",
    "ax2.add_collection(PatchCollection(squares, color='black'))\n",
    "\n",
    "ax2.hlines(np.arange(11), 0, 16, color='gray')\n",
    "\n",
    "ax2.axis('equal')\n",
    "ax2.axis('off');"
   ]
  },
  {
   "cell_type": "markdown",
   "metadata": {},
   "source": [
    "With ``axes.clear()`` you will clear the content of the figures ``fig1`` and ``fig2``."
   ]
  },
  {
   "cell_type": "code",
   "execution_count": null,
   "metadata": {},
   "outputs": [],
   "source": [
    "ax1.clear();\n",
    "ax2.clear();"
   ]
  },
  {
   "cell_type": "markdown",
   "metadata": {},
   "source": [
    "Now, you can spend some time to create you own plots with `Matplotlib`. Have fun!"
   ]
  },
  {
   "cell_type": "code",
   "execution_count": null,
   "metadata": {},
   "outputs": [],
   "source": [
    "#your code here"
   ]
  }
 ],
 "metadata": {},
 "nbformat": 4,
 "nbformat_minor": 1
}
