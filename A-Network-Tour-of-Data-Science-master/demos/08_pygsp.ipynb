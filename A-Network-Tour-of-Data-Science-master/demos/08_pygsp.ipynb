{
 "cells": [
  {
   "cell_type": "markdown",
   "metadata": {},
   "source": [
    "# [NTDS'17] demo 8: graph signal processing\n",
    "[ntds'17]: https://github.com/mdeff/ntds_2017\n",
    "\n",
    "[Michaël Defferrard](http://deff.ch), [EPFL LTS2](http://lts2.epfl.ch)\n",
    "\n",
    "For this tutorial, we'll use the [PyGSP](https://github.com/epfl-lts2/pygsp), a Python package to ease signal processing on graphs.\n",
    "The PyGSP facilitates a wide variety of operations on graphs, like computing their Fourier basis, filtering or interpolating signals, plotting graphs, signals, and filters. The package includes a wide range of graphs and many filter banks. Despite all the pre-defined models, you can easily use a custom graph by defining its adjacency matrix, and a custom filter bank by defining a set of functions in the spectral domain.\n",
    "\n",
    "You will first need to install it with `pip` or `conda`. The below code makes sure that you are installing it [in the environment in which your IPython kernel is running](https://jakevdp.github.io/blog/2017/12/05/installing-python-packages-from-jupyter/index.html)."
   ]
  },
  {
   "cell_type": "code",
   "execution_count": null,
   "metadata": {},
   "outputs": [],
   "source": [
    "# import sys\n",
    "\n",
    "# conda\n",
    "# !conda install --yes --prefix {sys.prefix} -c conda-forge pygsp\n",
    "\n",
    "# pip\n",
    "# !{sys.executable} -m pip install pygsp"
   ]
  },
  {
   "cell_type": "code",
   "execution_count": null,
   "metadata": {},
   "outputs": [],
   "source": [
    "%matplotlib inline\n",
    "\n",
    "import numpy as np\n",
    "from scipy import sparse\n",
    "import matplotlib.pyplot as plt\n",
    "from pygsp import graphs, filters, plotting\n",
    "\n",
    "plt.rcParams['figure.figsize'] = (17, 5)\n",
    "plotting.BACKEND = 'matplotlib'"
   ]
  },
  {
   "cell_type": "markdown",
   "metadata": {},
   "source": [
    "## 1 Graphs\n",
    "\n",
    "For this tutorial we'll define a graph\n",
    "$\n",
    "\\newcommand{\\x}{\\mathbf{x}}\n",
    "\\newcommand{\\y}{\\mathbf{y}}\n",
    "\\newcommand{\\W}{\\mathbf{W}}\n",
    "\\newcommand{\\D}{\\mathbf{D}}\n",
    "\\newcommand{\\I}{\\mathbf{I}}\n",
    "\\renewcommand{\\L}{\\mathbf{L}}\n",
    "\\newcommand{\\U}{\\mathbf{U}}\n",
    "\\newcommand{\\u}{\\mathbf{u}}\n",
    "\\newcommand{\\G}{\\mathcal{G}}\n",
    "\\newcommand{\\V}{\\mathcal{V}}\n",
    "\\newcommand{\\E}{\\mathcal{E}}\n",
    "\\newcommand{\\O}{\\mathcal{O}}\n",
    "\\newcommand{\\R}{\\mathbb{R}}\n",
    "\\newcommand{\\g}{\\hat{g}}\n",
    "\\DeclareMathOperator*{\\argmin}{arg\\,min}\n",
    "\\G = (\\V, \\E, \\W)\n",
    "$\n",
    "as a set of nodes $\\V$, a set of edges $\\E$ and a weighted adjacency matrix $\\W \\in \\R^{N \\times N}$, $N = |\\V|$.\n",
    "\n",
    "Graphs are created with the [graphs module](https://pygsp.readthedocs.io/en/stable/reference/graphs.html). It includes a wide range of graphs, from point clouds like the Stanford bunny and the Swiss roll; to networks like the Minnesota road network; to models for generating random graphs like stochastic block models, sensor networks, Erdős–Rényi model, Barabási-Albert model; to simple graphs like the path, the ring, and the grid."
   ]
  },
  {
   "cell_type": "code",
   "execution_count": null,
   "metadata": {},
   "outputs": [],
   "source": [
    "G = graphs.Minnesota()"
   ]
  },
  {
   "cell_type": "markdown",
   "metadata": {},
   "source": [
    "Provided the chosen model sets coordinates for 2D or 3D plotting, the graph can be plotted with the `plot` method."
   ]
  },
  {
   "cell_type": "code",
   "execution_count": null,
   "metadata": {},
   "outputs": [],
   "source": [
    "G.coords.shape"
   ]
  },
  {
   "cell_type": "code",
   "execution_count": null,
   "metadata": {},
   "outputs": [],
   "source": [
    "G.plot()"
   ]
  },
  {
   "cell_type": "markdown",
   "metadata": {},
   "source": [
    "### 1.1 Custom graphs and properties"
   ]
  },
  {
   "cell_type": "markdown",
   "metadata": {},
   "source": [
    "While the [graphs module](https://pygsp.readthedocs.io/en/stable/reference/graphs.html) defines many graphs, we can easily use a custom graph by defining its adjacency matrix. The alternative is to provide features from which node similarities will be computed to form a sparse adjacency matrix (see `graphs.NNGraph`).\n",
    "\n",
    "Let's create a random weighted adjacency matrix and look at some properties."
   ]
  },
  {
   "cell_type": "code",
   "execution_count": null,
   "metadata": {},
   "outputs": [],
   "source": [
    "W = np.random.uniform(size=(300, 300))  # Full graph.\n",
    "W[W < 0.93] = 0  # Sparse graph.\n",
    "W = W + W.T  # Symmetric graph.\n",
    "np.fill_diagonal(W, 0)  # No self-loops.\n",
    "\n",
    "G = graphs.Graph(W)\n",
    "print('{} nodes, {} edges'.format(G.N, G.Ne))\n",
    "\n",
    "print('Connected: {}'.format(G.is_connected()))\n",
    "print('Directed: {}'.format(G.is_directed()))\n",
    "\n",
    "plt.hist(G.d)\n",
    "plt.title('Degree distribution of my random graph');"
   ]
  },
  {
   "cell_type": "markdown",
   "metadata": {},
   "source": [
    "Alternatively, we can construct a similarity graph $\\mathbf{W} \\in \\mathbb{R}^{N \\times N}$ from node features $\\mathbf{X} = [\\mathbf{x}_1, \\ldots, \\mathbf{x}_N]^\\intercal \\in \\mathbb{R}^{N \\times d}$ and a kernel $k(\\cdot, \\cdot)$, such as\n",
    "$$\\mathbf{W}[i,j] = k(\\mathbf{x}_i, \\mathbf{x}_j).$$\n",
    "\n",
    "The kernel is often defined as the Gaussian kernel\n",
    "$$k(\\mathbf{x}_i, \\mathbf{x}_j) = \\exp \\left(-\\frac{d^2(\\mathbf{x}_i, \\mathbf{x}_j)}{\\sigma^2} \\right),$$\n",
    "and the distance function is often an $\\ell_p$-norm\n",
    "$$d(\\mathbf{x}_i, \\mathbf{x}_j) = \\| \\mathbf{x}_i - \\mathbf{x}_j \\|_p$$\n",
    "(of which the Euclidean distance is a special case with $p=2$)\n",
    "or the cosine distance\n",
    "$$d(\\mathbf{x}_i, \\mathbf{x}_j) = 1 - \\frac{\\langle \\mathbf{x}_i, \\mathbf{x}_j \\rangle}{\\|\\mathbf{x}_i\\|_2 \\|\\mathbf{x}_j\\|_2}.$$"
   ]
  },
  {
   "cell_type": "code",
   "execution_count": null,
   "metadata": {},
   "outputs": [],
   "source": [
    "N, d = 300, 10\n",
    "X = np.random.normal(size=(N, d))\n",
    "G = graphs.NNGraph(X)\n",
    "plt.hist(G.d);"
   ]
  },
  {
   "cell_type": "markdown",
   "metadata": {},
   "source": [
    "### 1.2 Exercise: graph layout\n",
    "\n",
    "Coordinates are sometimes given, e.g. if the graph is a road network as above. If it's not the case, e.g. because we just have an adjacency matrix, we must assign coordinates before plotting in 2 or 3 dimension.\n",
    "\n",
    "A [layout method](https://en.wikipedia.org/wiki/Graph_drawing) is an algorithm to embed a graph in 2D for the purpose of drawing.\n",
    "\n",
    "Use the `set_coordinates` method to assign a 2D coordinate to each node of the below Barabasi-Albert graph. Use two strategies:\n",
    "1. place the nodes on a ring with `ring2D` and\n",
    "2. use a [force-directed layout](https://en.wikipedia.org/wiki/Force-directed_graph_drawing) with `spring`."
   ]
  },
  {
   "cell_type": "code",
   "execution_count": null,
   "metadata": {},
   "outputs": [],
   "source": [
    "G = graphs.BarabasiAlbert(N=100)\n",
    "\n",
    "fig, axes = plt.subplots(1, 2)\n",
    "\n",
    "G.set_coordinates('ring2D')\n",
    "G.plot(ax=axes[0])\n",
    "\n",
    "G.set_coordinates('spring')\n",
    "G.plot(ax=axes[1])"
   ]
  },
  {
   "cell_type": "markdown",
   "metadata": {},
   "source": [
    "## 2 Laplacians\n",
    "\n",
    "Let's create a community graph composed of `Nc=3` communities of 50, 120, and 80 nodes."
   ]
  },
  {
   "cell_type": "code",
   "execution_count": null,
   "metadata": {},
   "outputs": [],
   "source": [
    "communities = [50, 120, 80]\n",
    "G = graphs.Community(N=250, Nc=3, comm_sizes=communities, seed=1)"
   ]
  },
  {
   "cell_type": "markdown",
   "metadata": {},
   "source": [
    "That graph is binary:"
   ]
  },
  {
   "cell_type": "code",
   "execution_count": null,
   "metadata": {},
   "outputs": [],
   "source": [
    "print(np.unique(G.W.toarray()))"
   ]
  },
  {
   "cell_type": "markdown",
   "metadata": {},
   "source": [
    "We can visualize it in two ways:\n",
    "1. the sparsity pattern of its adjacency matrix `G.W` and\n",
    "1. its node-link diagram.\n",
    "\n",
    "Remember, visualizing data is often insightful!"
   ]
  },
  {
   "cell_type": "code",
   "execution_count": null,
   "metadata": {},
   "outputs": [],
   "source": [
    "fig, axes = plt.subplots(1, 2)\n",
    "axes[0].spy(G.W, markersize=0.5)\n",
    "G.set_coordinates('community2D')\n",
    "G.plot(ax=axes[1])"
   ]
  },
  {
   "cell_type": "markdown",
   "metadata": {},
   "source": [
    "We can use the combinatorial Laplacian $\\L = \\D - \\W$."
   ]
  },
  {
   "cell_type": "code",
   "execution_count": null,
   "metadata": {},
   "outputs": [],
   "source": [
    "G.compute_laplacian('combinatorial')\n",
    "\n",
    "fig, axes = plt.subplots(1, 2)\n",
    "axes[0].spy(G.L, markersize=0.6)\n",
    "axes[1].hist(G.L.data, bins=50, log=True);"
   ]
  },
  {
   "cell_type": "markdown",
   "metadata": {},
   "source": [
    "Or the normalized Laplacian $\\L = \\I - \\D^{-1/2} \\W \\D^{-1/2}$."
   ]
  },
  {
   "cell_type": "code",
   "execution_count": null,
   "metadata": {},
   "outputs": [],
   "source": [
    "G.compute_laplacian('normalized')\n",
    "\n",
    "fig, axes = plt.subplots(1, 2)\n",
    "axes[0].spy(G.L, markersize=0.6)\n",
    "axes[1].hist(G.L.data, bins=50, log=True);"
   ]
  },
  {
   "cell_type": "markdown",
   "metadata": {},
   "source": [
    "## 3 Graph signals\n",
    "\n",
    "A graph signal $x: \\V \\rightarrow \\R$ can be seen as a vector $\\x \\in \\R^N$, where $N = |\\V|$ is the number of nodes.\n",
    "\n",
    "Let's first create a random signal and visualize it on the graph."
   ]
  },
  {
   "cell_type": "code",
   "execution_count": null,
   "metadata": {},
   "outputs": [],
   "source": [
    "x = np.random.uniform(-1, 1, size=G.N)"
   ]
  },
  {
   "cell_type": "code",
   "execution_count": null,
   "metadata": {},
   "outputs": [],
   "source": [
    "G.plot_signal(x)"
   ]
  },
  {
   "cell_type": "markdown",
   "metadata": {},
   "source": [
    "### 3.1 Gradient and divergence\n",
    "\n",
    "The differential operator $\\D \\in \\R^{|\\E| \\times N}$ is defined such as $\\L = \\D^\\intercal \\D$. It can be computed with the PyGSP: "
   ]
  },
  {
   "cell_type": "code",
   "execution_count": null,
   "metadata": {},
   "outputs": [],
   "source": [
    "G.compute_differential_operator()\n",
    "print(G.D.shape)"
   ]
  },
  {
   "cell_type": "markdown",
   "metadata": {},
   "source": [
    "The gradient of a signal $\\x$ is then given by\n",
    "$$\\dot\\x = \\nabla_\\G \\, \\x = \\D \\x \\in \\R^{|\\E|}.$$\n",
    "\n",
    "Its value on the edge $(i,j) \\in \\E$ is given by\n",
    "$$\\dot\\x[(i,j)] = \\sqrt{\\W[i,j]} \\, (\\x[i] - \\x[j]).$$"
   ]
  },
  {
   "cell_type": "code",
   "execution_count": null,
   "metadata": {},
   "outputs": [],
   "source": [
    "x_grad = G.D @ x"
   ]
  },
  {
   "cell_type": "markdown",
   "metadata": {},
   "source": [
    "Similarly, the divergence of $\\dot\\x$ is given by\n",
    "$$\\operatorname{div} \\dot\\x = \\D^\\intercal \\dot\\x = \\D^\\intercal \\D \\x = \\L \\x \\in \\R^N.$$\n",
    "\n",
    "It is a graph signal which value at node $i \\in \\V$ is given by\n",
    "$$\n",
    "\\begin{align*}\n",
    "(\\operatorname{div} \\dot\\x) [i] &= \\sum_{i \\sim j} \\sqrt{\\W[i,j]} \\, \\dot\\x[(i,j)] \\\\\n",
    "&= \\sum_{i \\sim j} \\W[i,j] \\, (\\x[i] - \\x[j]) \\\\\n",
    "&= (\\L \\x)[i].\n",
    "\\end{align*}\n",
    "$$\n",
    "\n",
    "Note that the above derivations are for the combinatorial Laplacian. For the normalized Laplacian, replace $\\W$ by $\\D^{-1/2} \\W \\D^{-1/2}$. As its name implies, the normalized Laplacian is simply a normalization of the edge weights."
   ]
  },
  {
   "cell_type": "code",
   "execution_count": null,
   "metadata": {},
   "outputs": [],
   "source": [
    "x_div = G.D.T @ x_grad\n",
    "\n",
    "np.linalg.norm(G.L @ x - x_div)"
   ]
  },
  {
   "cell_type": "code",
   "execution_count": null,
   "metadata": {},
   "outputs": [],
   "source": [
    "G.plot_signal(x_div)"
   ]
  },
  {
   "cell_type": "markdown",
   "metadata": {},
   "source": [
    "In the PyGSP, the gradient and divergence can be computed more efficiently with `G.grad()` and `G.div()`."
   ]
  },
  {
   "cell_type": "code",
   "execution_count": null,
   "metadata": {},
   "outputs": [],
   "source": [
    "np.testing.assert_allclose(x_grad, G.grad(x))\n",
    "np.testing.assert_allclose(x_div, G.div(x_grad))"
   ]
  },
  {
   "cell_type": "markdown",
   "metadata": {},
   "source": [
    "### 3.2 Smoothness\n",
    "\n",
    "Is our random signal smooth? Our intuition certainly says no. Let's verify by computing the norm of the gradient:\n",
    "$$\\| \\nabla_\\G \\, \\x \\|_2^2 = \\langle \\D \\x, \\D \\x \\rangle = \\x^\\intercal \\L \\x = \\sum_{i \\sim j} \\W[i,j] (\\x[i] - \\x[j])^2.$$\n",
    "\n",
    "Note that we are normalizing by the norm of the signal, so that its energy does not influence our computation."
   ]
  },
  {
   "cell_type": "code",
   "execution_count": null,
   "metadata": {},
   "outputs": [],
   "source": [
    "x.T @ G.L @ x / np.linalg.norm(x)**2"
   ]
  },
  {
   "cell_type": "markdown",
   "metadata": {},
   "source": [
    "Let's compare it with the partitioning function:\n",
    "$$ x[i] =\n",
    "\\begin{cases}\n",
    "    -1 &\\text{if } i \\in S_1, \\\\\n",
    "    0  &\\text{if } i \\in S_2, \\\\\n",
    "    1  &\\text{if } i \\in S_3,\n",
    "\\end{cases}\n",
    "$$\n",
    "where $S_i$ is the set of nodes in partition $i$."
   ]
  },
  {
   "cell_type": "code",
   "execution_count": null,
   "metadata": {},
   "outputs": [],
   "source": [
    "x = np.zeros(G.N)\n",
    "x[:communities[0]] = -1 * np.ones(communities[0])\n",
    "x[-communities[-1]:] = 1 * np.ones(communities[-1])"
   ]
  },
  {
   "cell_type": "code",
   "execution_count": null,
   "metadata": {},
   "outputs": [],
   "source": [
    "G.plot_signal(x)"
   ]
  },
  {
   "cell_type": "code",
   "execution_count": null,
   "metadata": {},
   "outputs": [],
   "source": [
    "x.T @ G.L @ x / np.linalg.norm(x)**2"
   ]
  },
  {
   "cell_type": "markdown",
   "metadata": {},
   "source": [
    "That function is certainly smoother!"
   ]
  },
  {
   "cell_type": "markdown",
   "metadata": {},
   "source": [
    "### 3.3 Exercise\n",
    "\n",
    "Find the smoothest non-trivial signal\n",
    "$$\\x^\\star = \\argmin_{\\x \\in \\R^N} \\x^\\intercal \\L \\x, \\ \\text{ s.t. } \\ \\x \\neq \\mathbf{0} \\ \\text{ and } \\ \\x^\\intercal \\D^{1/2} \\mathbf{1} = 0,$$\n",
    "where $\\mathbf{0}$ denotes the vector of all zeroes, and $\\mathbf{1}$ the vector of all ones. The first constraint prevents the solution to be the zero vector, while the second constraint forces it to be orthogonal to the first eigenvector. The first eigenvector is $\\frac{1}{N} \\mathbf{1}$ for the combinatorial Laplacian and $\\D^{1/2} \\mathbf{1}$ for the normalized Laplacian."
   ]
  },
  {
   "cell_type": "code",
   "execution_count": null,
   "metadata": {},
   "outputs": [],
   "source": [
    "# Not the null signal.\n",
    "x0 = np.zeros(G.N)\n",
    "x0.T @ G.L @ x0"
   ]
  },
  {
   "cell_type": "code",
   "execution_count": null,
   "metadata": {},
   "outputs": [],
   "source": [
    "# Not the \"constant\" signal either.\n",
    "if G.lap_type == 'combinatorial':\n",
    "    x1 = np.ones(G.N)\n",
    "elif G.lap_type == 'normalized':\n",
    "    x1 = np.power(G.d, 0.5) * np.ones(G.N)\n",
    "\n",
    "x1.T @ G.L @ x1"
   ]
  },
  {
   "cell_type": "code",
   "execution_count": null,
   "metadata": {},
   "outputs": [],
   "source": [
    "# Solution: the second eigenvector.\n",
    "x = sparse.linalg.eigsh(G.L, k=2, which='SM')[1][:, 1]\n",
    "\n",
    "print(x.T @ x1)\n",
    "x.T @ G.L @ x / np.linalg.norm(x)**2"
   ]
  },
  {
   "cell_type": "markdown",
   "metadata": {},
   "source": [
    "## 4 Fourier basis\n",
    "\n",
    "The Fourier basis is defined as $\\U = [\\u_1, \\ldots, \\u_N] \\in \\R^{N \\times N}$, where the columns of $\\U$ are the eigenvectors of the graph Laplacian $\\L$. It can be computed with the PyGSP by the `compute_fourier_basis()` method. Remember that this involves the full eigendecomposition of the Laplacian $\\L = \\U \\mathbf{\\Lambda} \\U^\\intercal$ which costs $\\mathcal{O}(N^3)$ operations in general.\n",
    "\n",
    "As expected, the Fourier basis of a ring graph is equivalent to the classical Fourier modes:"
   ]
  },
  {
   "cell_type": "code",
   "execution_count": null,
   "metadata": {},
   "outputs": [],
   "source": [
    "G = graphs.Ring(N=50)\n",
    "G.compute_fourier_basis()\n",
    "\n",
    "fig, axes = plt.subplots(1, 2)\n",
    "G.plot_signal(G.U[:, 4], ax=axes[0])\n",
    "\n",
    "G.set_coordinates('line1D')\n",
    "G.plot_signal(G.U[:, 1:4], ax=axes[1])\n",
    "axes[1].legend(['u_{}'.format(i) for i in range(1, 4)]);"
   ]
  },
  {
   "cell_type": "markdown",
   "metadata": {},
   "source": [
    "From the eigenvalue equation, we can write\n",
    "$$\\L \\u_n = \\lambda_n \\u_n \\ \\Leftrightarrow \\ \\u_n^\\intercal \\L \\u_n = \\lambda_n.$$\n",
    "Hence, the eigenvalues are a measure of smoothness, or frequency, of the eigenvectors."
   ]
  },
  {
   "cell_type": "code",
   "execution_count": null,
   "metadata": {},
   "outputs": [],
   "source": [
    "def print_eigenvalue(n):\n",
    "    u = G.U[:, n]\n",
    "    print('u_{0}^T L u_{0} = {1:.4f} (eigenvalue {2:.4f})'.format(n, u.T @ G.L @ u, G.e[n]))\n",
    "\n",
    "for n in range(6):\n",
    "    print_eigenvalue(n)"
   ]
  },
  {
   "cell_type": "markdown",
   "metadata": {},
   "source": [
    "### 4.1 Exercise\n",
    "\n",
    "Plot the first 7 Fourier modes, i.e. $\\u_1$ to $\\u_7$, of the grid and a sensor network. What do you observe?\n",
    "\n",
    "**Your answer here.** The eigenvectors can be localized on non-regularly sampled graphs.\n",
    "\n",
    "Hints:\n",
    "* Use `G = graphs.Grid2d(10, 10)` and `G = graphs.Sensor(seed=42)`."
   ]
  },
  {
   "cell_type": "code",
   "execution_count": null,
   "metadata": {},
   "outputs": [],
   "source": [
    "fig, axes = plt.subplots(2, 7)\n",
    "\n",
    "G = graphs.Grid2d(10, 10)\n",
    "G.compute_fourier_basis()\n",
    "limits = [f(G.U[:, :len(axes[0, :])]) for f in (np.min, np.max)]\n",
    "for i, ax in enumerate(axes[0, :]):\n",
    "    G.plot_signal(G.U[:, i], limits=limits, colorbar=False, vertex_size=50, ax=ax)\n",
    "    ax.set_title('')\n",
    "    ax.set_axis_off()\n",
    "fig.subplots_adjust(right=0.8)\n",
    "cax = fig.add_axes([0.82, 0.56, 0.01, 0.3])\n",
    "fig.colorbar(ax.collections[0], cax=cax)\n",
    "\n",
    "G = graphs.Sensor(seed=42)\n",
    "G.compute_fourier_basis()\n",
    "limits = [f(G.U[:, :len(axes[1, :])]) for f in (np.min, np.max)]\n",
    "for i, ax in enumerate(axes[1, :]):\n",
    "    G.plot_signal(G.U[:, i], limits=limits, colorbar=False, vertex_size=50, ax=ax)\n",
    "    ax.set_title('eigenvector $u_{}$'.format(i+1))\n",
    "    ax.set_axis_off()\n",
    "fig.subplots_adjust(right=0.8)\n",
    "cax = fig.add_axes([0.82, 0.16, 0.01, 0.3])\n",
    "fig.colorbar(ax.collections[0], cax=cax);"
   ]
  },
  {
   "cell_type": "markdown",
   "metadata": {},
   "source": [
    "### 4.2 Graph Fourier Transform\n",
    "\n",
    "The graph Fourier transform (GFT, `G.gft()`) of a signal $\\x$ is given by\n",
    "$$\\hat\\x = \\mathcal{F}\\{\\x\\} = \\U^\\intercal \\x \\in \\R^N,$$\n",
    "where $\\U$ is the graph Fourier basis. The reponse at \"frequency\" $\\lambda_i$ is given by\n",
    "$$\\hat{\\x}[i] = \\langle \\u_i, \\x \\rangle.$$\n",
    "\n",
    "The inverse Fourier transform (`G.igft()`) is given by\n",
    "$$\\x = \\mathcal{F}^{-1}\\{\\hat\\x\\} = \\U \\hat\\x \\in \\R^N.$$\n",
    "\n",
    "The intuition about the smoothness of a signal and its representation in the spectral domain again transfers from classical Fourier analysis. Look a the below figures."
   ]
  },
  {
   "cell_type": "code",
   "execution_count": null,
   "metadata": {},
   "outputs": [],
   "source": [
    "G = graphs.Sensor(seed=42)\n",
    "G.compute_fourier_basis()\n",
    "\n",
    "taus = [0, 3, 10]\n",
    "fig, axes = plt.subplots(len(taus), 2, figsize=(17, 9))\n",
    "\n",
    "x0 = np.random.RandomState(1).normal(size=G.N)\n",
    "for i, tau in enumerate(taus):\n",
    "    g = filters.Heat(G, tau)\n",
    "    x = g.filter(x0).squeeze()\n",
    "    x_hat = G.gft(x).squeeze()\n",
    "    \n",
    "    G.plot_signal(x, ax=axes[i, 0])\n",
    "    axes[i, 0].set_axis_off()\n",
    "    axes[i, 0].set_title('')\n",
    "    axes[i, 0].text(0, -0.2, '$x^T L x = {:.2f}$'.format(x.T @ G.L @ x))\n",
    "    \n",
    "    axes[i, 1].plot(G.e, np.abs(x_hat), '.-')\n",
    "    \n",
    "axes[0, 0].set_title(r'$x$: signal in the vertex domain')\n",
    "axes[0, 1].set_title(r'$\\hat{x}$: signal in the spectral domain')\n",
    "axes[-1, 1].set_xlabel(\"laplacian's eigenvalues / graph frequencies\");"
   ]
  },
  {
   "cell_type": "markdown",
   "metadata": {},
   "source": [
    "## 5 Filtering\n",
    "\n",
    "A graph signal $\\x$ is filtered as\n",
    "$$\\y = \\U \\g(\\mathbf{\\Lambda}) \\U^\\intercal \\, \\x = \\g(\\U \\mathbf{\\Lambda} \\U^\\intercal) \\, \\x = \\g(\\L) \\, \\x,$$\n",
    "where $\\g(\\cdot)$ is the filter kernel defined in the specral domain as a function of the eigenvalues (\"frequencies\").\n",
    "\n",
    "In general, we try to avoid the Fourier basis because of the $\\O(N^3)$ incured cost of the eigendecomposition, to be added to the $\\O(N^2)$ cost of each filtering operation. Defining filters as polynomials of the graph Laplacian, i.e.\n",
    "$$\\g(\\L) = \\sum_{k=0}^K \\theta_k \\L^k$$\n",
    "solves this problem as we can compute\n",
    "$$\n",
    "\\begin{align*}\n",
    "\\bar\\x_0 &= \\L^0 \\x = \\x, \\\\\n",
    "\\bar\\x_1 &= \\L^1 \\x = \\L \\x_0, \\\\\n",
    "\\bar\\x_2 &= \\L^2 \\x = \\L \\x_1, \\\\\n",
    "\\bar\\x_k &= \\L^k \\x = \\L \\x_{k-1}.\n",
    "\\end{align*}\n",
    "$$\n",
    "The filtered signal is then\n",
    "$$ \\y = \\hat{g}(\\L) \\, \\x = \\sum_{k=0}^K \\theta_k \\bar\\x_k, $$\n",
    "for a computational cost of $\\O(K N)$, as $|\\E| \\propto N$ for sparse graphs.\n",
    "\n",
    "As long as you can specify your filter $\\g(\\cdot)$ as a continuous function of the eigenvalues $\\lambda$, the PyGSP will take care of computing the coefficients of the best approximating [Chebyshev polynomials](https://en.wikipedia.org/wiki/Chebyshev_polynomials) or order $K$, then use those to perform the filtering operation."
   ]
  },
  {
   "cell_type": "code",
   "execution_count": null,
   "metadata": {},
   "outputs": [],
   "source": [
    "G1 = graphs.Sensor(seed=42)\n",
    "G1.compute_fourier_basis()\n",
    "G2 = graphs.Ring(N=100)\n",
    "G2.compute_fourier_basis()\n",
    "G2.set_coordinates('line1D')\n",
    "\n",
    "TAUS = [0, 5, 100]\n",
    "DELTA = 10\n",
    "\n",
    "fig, axes = plt.subplots(len(TAUS), 3, figsize=(17, 7))\n",
    "\n",
    "for i, tau in enumerate(TAUS):\n",
    "    g1 = filters.Heat(G1, tau)\n",
    "    g2 = filters.Heat(G2, tau)\n",
    "    \n",
    "    y = g1.localize(DELTA).squeeze()\n",
    "    G1.plot_signal(y, ax=axes[i, 0])\n",
    "    axes[i, 0].set_axis_off()\n",
    "    axes[i, 0].set_title('')\n",
    "    axes[i, 0].text(0, -0.2, '$y^T L y = {:.2f}$'.format(y.T @ G1.L @ y))\n",
    "    \n",
    "    G2.plot_signal(g2.localize(G2.N//2), ax=axes[i, 2])\n",
    "    axes[i, 2].set_title('')\n",
    "    \n",
    "    g1.plot(ax=axes[i, 1])\n",
    "    axes[i, 1].set_xlabel('')\n",
    "    axes[i, 1].set_ylabel('')\n",
    "    axes[i, 1].set_ylim(-0.1, 1.1)\n",
    "    text = r'$\\hat{{g}}(\\lambda) = \\exp \\left( \\frac{{-{{{}}} \\lambda}}{{\\lambda_{{max}}}} \\right)$'.format(tau)\n",
    "    axes[i, 1].text(6, 0.5, text, fontsize=15)\n",
    "    \n",
    "axes[0, 0].set_title('$y = \\hat{{g}}(L) \\delta_{{{}}}$: localized on sensor'.format(DELTA))\n",
    "axes[0, 1].set_title('$\\hat{g}(\\lambda)$: filter defined in the spectral domain')\n",
    "axes[0, 2].set_title('$y = \\hat{{g}}(L) \\delta_{{{}}}$: localized on ring graph'.format(G2.N//2))\n",
    "axes[-1, 1].set_xlabel(\"$\\lambda$: laplacian's eigenvalues / graph frequencies\");"
   ]
  },
  {
   "cell_type": "markdown",
   "metadata": {},
   "source": [
    "### 5.1 Exercise: analysis and synthesis\n",
    "\n",
    "Some tasks in [signal processing](https://en.wikipedia.org/wiki/Signal_processing), for example compression or coding, involves the analysis (the decomposition) of a signal $\\x_1 \\in \\R^N$ with a [filter bank](https://en.wikipedia.org/wiki/Filter_bank), i.e. a set of $N_f$ filters. We can see it as the decomposition of the signal into a set of $N_f$ signals $\\x_2 \\in \\R^{N \\times N_f}$, each being a response to a filter extracting a particular feature (e.g. a frequency band or a particular 2D texture). On the other end, we want to reconstruct the signal $\\x_3 \\in \\R^N$ from $\\x_2$, after possibly a transmission or compression. Our goal is to minimize some reconstruction error $d(\\x_3, \\x_1)$. The error could for example be the perceived visual loss for image compression.\n",
    "\n",
    "Look at the below code, where $\\x_1 = \\delta_{13}$. We analyze it with two filter banks (`filters.MexicanHat` and `filters.Itersine`) of `Nf=4` filters and then synthesize $\\x_3$. How do you explain the difference in reconstruction error $d(\\x_3, \\x_1) = \\| \\x_1 - \\x_3 \\|_2$ between both filter banks?\n",
    "\n",
    "Hints:\n",
    "* Look at the frequency response of the filter banks."
   ]
  },
  {
   "cell_type": "code",
   "execution_count": null,
   "metadata": {},
   "outputs": [],
   "source": [
    "G = graphs.Sensor(30, seed=42)\n",
    "G.compute_fourier_basis()  # Reproducible computation of lmax.\n",
    "s1 = np.zeros(G.N)\n",
    "s1[13] = 1"
   ]
  },
  {
   "cell_type": "code",
   "execution_count": null,
   "metadata": {},
   "outputs": [],
   "source": [
    "g = filters.MexicanHat(G, Nf=4)\n",
    "s2 = g.analyze(s1)\n",
    "s3 = g.synthesize(s2)\n",
    "np.linalg.norm(s1 - s3)"
   ]
  },
  {
   "cell_type": "code",
   "execution_count": null,
   "metadata": {},
   "outputs": [],
   "source": [
    "g.plot()"
   ]
  },
  {
   "cell_type": "code",
   "execution_count": null,
   "metadata": {},
   "outputs": [],
   "source": [
    "g = filters.Itersine(G, Nf=4)\n",
    "s2 = g.analyze(s1)\n",
    "s3 = g.synthesize(s2)\n",
    "np.linalg.norm(s1 - s3)"
   ]
  },
  {
   "cell_type": "code",
   "execution_count": null,
   "metadata": {},
   "outputs": [],
   "source": [
    "g.plot()"
   ]
  },
  {
   "cell_type": "markdown",
   "metadata": {},
   "source": [
    "**Your answer here.** The `Itersine` filter bank is a [tight frame](https://en.wikipedia.org/wiki/Frame_%28linear_algebra%29#Tight_frames). It is therefore preserving all the information about $\\x_1$, while the `MexicanHat` filter bank is loosing some. Look at how the sum of all filters, the black line in the above plots, is the identity function for the `Itersine` filter bank."
   ]
  }
 ],
 "metadata": {},
 "nbformat": 4,
 "nbformat_minor": 2
}
